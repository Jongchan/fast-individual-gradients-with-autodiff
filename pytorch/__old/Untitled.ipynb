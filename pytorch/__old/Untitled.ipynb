{
 "cells": [
  {
   "cell_type": "code",
   "execution_count": 109,
   "metadata": {},
   "outputs": [
    {
     "name": "stdout",
     "output_type": "stream",
     "text": [
      "x1, x2:\n",
      " tensor([ 1.,  2.,  3.]) torch.Size([3]) tensor([ 4.,  5.,  6.]) torch.Size([3])\n",
      "w:\n",
      " tensor([ 0.,  0.,  0.]) torch.Size([3])\n",
      "f1, f2:\n",
      " tensor(0.) torch.Size([]) tensor(0.) torch.Size([])\n"
     ]
    },
    {
     "data": {
      "text/plain": [
       "(tensor([[ 1.,  2.,  3.],\n",
       "         [ 4.,  5.,  6.]]),)"
      ]
     },
     "execution_count": 109,
     "metadata": {},
     "output_type": "execute_result"
    }
   ],
   "source": [
    "import numpy as np\n",
    "import torch\n",
    "import torch.utils.data\n",
    "import pdb\n",
    "\n",
    "import torch\n",
    "from torch.autograd import Variable\n",
    "\n",
    "class MyAdder(torch.autograd.Function):\n",
    "    @staticmethod\n",
    "    def forward(ctx, a, b):\n",
    "        ctx.save_for_backward(a, b)\n",
    "        return a + b\n",
    "\n",
    "    @staticmethod\n",
    "    def backward(ctx, grad_output):\n",
    "        a, b = ctx.saved_tensors\n",
    "        print(\"grad_output:\", grad_output)\n",
    "        #grad_a = grad_output * torch.tensor([[1,1],[0,0]]).float()\n",
    "        #grad_b = grad_output * torch.tensor([[0,0],[1,1]]).float()\n",
    "        grad_a = grad_output * torch.tensor([[1],[0]]).float()\n",
    "        grad_b = grad_output * torch.tensor([[0],[1]]).float()\n",
    "        return grad_a, grad_b \n",
    "            \n",
    "add = MyAdder.apply\n",
    "\n",
    "x1 = torch.tensor([1,2,3], requires_grad=False).float()\n",
    "x2 = torch.tensor([4,5,6], requires_grad=False).float()\n",
    "w = torch.tensor([0,0,0], requires_grad=True).float()\n",
    "\n",
    "f1 = torch.dot(x1, w)\n",
    "f2 = torch.dot(x2, w)\n",
    "\n",
    "r = add(add(f1, f2), f1)\n",
    "\n",
    "print(\"x1:\\n\", x1, x1.shape)\n",
    "print(\"x2:\\n\", x2, x2.shape)\n",
    "print(\"w:\\n\", w, w.shape)\n",
    "print(\"f1:\\n\", f1, f1.shape)\n",
    "print(\"f2:\\n\", f2, f2.shape)\n",
    "\n",
    "z = torch.stack((f1, f2))\n",
    "torch.autograd.grad(z, w, torch.eye(2).view(2,2,1), retain_graph=True)\n"
   ]
  }
 ],
 "metadata": {
  "kernelspec": {
   "display_name": "Python 3",
   "language": "python",
   "name": "python3"
  },
  "language_info": {
   "codemirror_mode": {
    "name": "ipython",
    "version": 3
   },
   "file_extension": ".py",
   "mimetype": "text/x-python",
   "name": "python",
   "nbconvert_exporter": "python",
   "pygments_lexer": "ipython3",
   "version": "3.6.4"
  }
 },
 "nbformat": 4,
 "nbformat_minor": 2
}
